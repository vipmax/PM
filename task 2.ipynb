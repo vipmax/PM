{
 "cells": [
  {
   "cell_type": "code",
   "execution_count": 1,
   "metadata": {
    "collapsed": true
   },
   "outputs": [],
   "source": [
    "# What you need to do:\n",
    "#  1 Analyze min and max values of Istanbul Stock Market indexes using block maxima method (don’t forget to reconstruct all gaps)\n",
    "#  2 Analyze min and max values of Istanbul Stock Market indexes using block POT method (don’t forget to prove chosen threshold)\n",
    "#  3 Fit appropriate distribution for extreme values (GEV, GPD)\n",
    "#  4 Find curves for VaR and ES criteria for various quantiles (0.9 – 0.999)"
   ]
  },
  {
   "cell_type": "code",
   "execution_count": null,
   "metadata": {},
   "outputs": [],
   "source": [
    ""
   ]
  }
 ],
 "metadata": {
  "kernelspec": {
   "display_name": "Python 2",
   "language": "python",
   "name": "python2"
  },
  "language_info": {
   "codemirror_mode": {
    "name": "ipython",
    "version": 2.0
   },
   "file_extension": ".py",
   "mimetype": "text/x-python",
   "name": "python",
   "nbconvert_exporter": "python",
   "pygments_lexer": "ipython2",
   "version": "2.7.6"
  }
 },
 "nbformat": 4,
 "nbformat_minor": 0
}